{
 "cells": [
  {
   "cell_type": "markdown",
   "metadata": {},
   "source": [
    "# PROSPER Loan Data\n",
    "\n",
    "## Preliminary Wrangling\n",
    "\n",
    "> This notebook explores Udacity curated Prosper loan dataset. The dataset contains loan data, Borrowers credit attributes and  lender data at a loan listing level. "
   ]
  },
  {
   "cell_type": "code",
   "execution_count": 1,
   "metadata": {},
   "outputs": [],
   "source": [
    "# import all packages and set plots to be embedded inline\n",
    "import numpy as np\n",
    "import pandas as pd\n",
    "import matplotlib.pyplot as plt\n",
    "import seaborn as sb\n",
    "\n",
    "%matplotlib inline"
   ]
  },
  {
   "cell_type": "markdown",
   "metadata": {},
   "source": [
    "> Load in your dataset and describe its properties through the questions below.\n",
    "Try and motivate your exploration goals through this section."
   ]
  },
  {
   "cell_type": "code",
   "execution_count": 2,
   "metadata": {},
   "outputs": [],
   "source": [
    "# Load dataset into a pandas dataframe\n",
    "df1 = pd.read_csv(\"prosperLoanData.csv\")"
   ]
  },
  {
   "cell_type": "code",
   "execution_count": 3,
   "metadata": {},
   "outputs": [
    {
     "data": {
      "text/plain": [
       "0"
      ]
     },
     "execution_count": 3,
     "metadata": {},
     "output_type": "execute_result"
    }
   ],
   "source": [
    "# Making sure there are no duplicates in the dataset\n",
    "df1.duplicated().sum()"
   ]
  },
  {
   "cell_type": "code",
   "execution_count": 4,
   "metadata": {
    "scrolled": false
   },
   "outputs": [
    {
     "name": "stdout",
     "output_type": "stream",
     "text": [
      "(113937, 81)\n"
     ]
    }
   ],
   "source": [
    "# high-level overview of data shape and composition\n",
    "print(df1.shape)"
   ]
  },
  {
   "cell_type": "code",
   "execution_count": 5,
   "metadata": {},
   "outputs": [],
   "source": [
    "# From datadictionary provided we know prosper score is not available prior to 2009. \n",
    "# It should also be noted Prosper changed their business model and credit policy.\n",
    "# They started using Prosper rating instead of CreditGrade. We will clean data prior to 2009.\n",
    "\n",
    "df1.dropna(subset = ['ProsperScore'],inplace = True)"
   ]
  },
  {
   "cell_type": "code",
   "execution_count": 6,
   "metadata": {},
   "outputs": [],
   "source": [
    "# We will limit our focus to below variables instead of 81 that were provided\n",
    "\n",
    "df1 = df1[['Term','LoanStatus','BorrowerAPR','LenderYield','ProsperScore','ProsperRating (Alpha)','ListingCategory (numeric)','BorrowerState','Occupation','EmploymentStatus','IsBorrowerHomeowner','CreditScoreRangeLower','CreditScoreRangeUpper','OpenRevolvingMonthlyPayment','DebtToIncomeRatio','IncomeRange','IncomeVerifiable','StatedMonthlyIncome','LoanOriginalAmount','LoanOriginationQuarter']]"
   ]
  },
  {
   "cell_type": "code",
   "execution_count": 7,
   "metadata": {},
   "outputs": [],
   "source": [
    "# Rename column headers to remove space\n",
    "df1.rename(columns={'ProsperRating (Alpha)': 'ProsperRating_Alpha','ListingCategory (numeric)': 'ListingCategory_numeric'}, inplace=True)"
   ]
  },
  {
   "cell_type": "code",
   "execution_count": 8,
   "metadata": {},
   "outputs": [],
   "source": [
    "#df1[\"ListingCategory_numeric\"]= df1[\"ListingCategory_numeric\"].astype(str)"
   ]
  },
  {
   "cell_type": "code",
   "execution_count": 9,
   "metadata": {},
   "outputs": [],
   "source": [
    "# The category of the listing that the borrower selected when posting their listing: \n",
    "# 0 - Not Available, 1 - Debt Consolidation, 2 - Home Improvement, 3 - Business, 4 - Personal Loan, 5 - Student Use, 6 - Auto, \n",
    "# 7- Other, 8 - Baby&Adoption, 9 - Boat, 10 - Cosmetic Procedure, 11 - Engagement Ring, 12 - Green Loans, 13 - Household Expenses, \n",
    "# 14 - Large Purchases, 15 - Medical/Dental, 16 - Motorcycle, 17 - RV, 18 - Taxes, 19 - Vacation, 20 - Wedding Loans\n"
   ]
  },
  {
   "cell_type": "code",
   "execution_count": 10,
   "metadata": {},
   "outputs": [],
   "source": [
    "df1['ListingCategory'] = pd.np.where(df1.ListingCategory_numeric == 1, \"Debt Consolidation\",\n",
    "                   pd.np.where(df1.ListingCategory_numeric == 2, \"Home Improvement\",\n",
    "                   pd.np.where(df1.ListingCategory_numeric == 3, \"Business\",\n",
    "                   pd.np.where(df1.ListingCategory_numeric == 4, \"Personal Loan\", \n",
    "                   pd.np.where(df1.ListingCategory_numeric == 5, \"Student Use\",\n",
    "                   pd.np.where(df1.ListingCategory_numeric == 6, \"Auto\",\n",
    "                   pd.np.where(df1.ListingCategory_numeric == 7, \"Other\",\n",
    "                   pd.np.where(df1.ListingCategory_numeric == 8, \"Baby&Adoption\", \n",
    "                   pd.np.where(df1.ListingCategory_numeric == 9, \"Boat\",\n",
    "                   pd.np.where(df1.ListingCategory_numeric == 10, \"Cosmetic Procedure\",\n",
    "                   pd.np.where(df1.ListingCategory_numeric == 11, \"Engagement Ring\",\n",
    "                   pd.np.where(df1.ListingCategory_numeric == 12, \"Green Loans\", \n",
    "                   pd.np.where(df1.ListingCategory_numeric == 13, \"Household Expenses\",\n",
    "                   pd.np.where(df1.ListingCategory_numeric == 14, \"Large Purchases\",\n",
    "                   pd.np.where(df1.ListingCategory_numeric == 15, \"Medical/Dental\",\n",
    "                   pd.np.where(df1.ListingCategory_numeric == 16, \"Motorcycle\", \n",
    "                   pd.np.where(df1.ListingCategory_numeric == 17, \"RV\",\n",
    "                   pd.np.where(df1.ListingCategory_numeric == 18, \"Taxes\",\n",
    "                   pd.np.where(df1.ListingCategory_numeric == 19, \"Vacation\",  \n",
    "                   pd.np.where(df1.ListingCategory_numeric == 20, \"Wedding Loans\",\"Not Available\"))))))))))))))))))))"
   ]
  },
  {
   "cell_type": "code",
   "execution_count": 82,
   "metadata": {
    "scrolled": false
   },
   "outputs": [
    {
     "name": "stdout",
     "output_type": "stream",
     "text": [
      "(84853, 21)\n",
      "<class 'pandas.core.frame.DataFrame'>\n",
      "Int64Index: 84853 entries, 1 to 113936\n",
      "Data columns (total 21 columns):\n",
      "Term                           84853 non-null int64\n",
      "LoanStatus                     84853 non-null object\n",
      "BorrowerAPR                    84853 non-null float64\n",
      "LenderYield                    84853 non-null float64\n",
      "ProsperScore                   84853 non-null float64\n",
      "ProsperRating_Alpha            84853 non-null object\n",
      "ListingCategory_numeric        84853 non-null int64\n",
      "BorrowerState                  84853 non-null object\n",
      "Occupation                     83520 non-null object\n",
      "EmploymentStatus               84853 non-null object\n",
      "IsBorrowerHomeowner            84853 non-null bool\n",
      "CreditScoreRangeLower          84853 non-null float64\n",
      "CreditScoreRangeUpper          84853 non-null float64\n",
      "OpenRevolvingMonthlyPayment    84853 non-null float64\n",
      "DebtToIncomeRatio              77557 non-null float64\n",
      "IncomeRange                    84853 non-null category\n",
      "IncomeVerifiable               84853 non-null bool\n",
      "StatedMonthlyIncome            84853 non-null float64\n",
      "LoanOriginalAmount             84853 non-null int64\n",
      "LoanOriginationQuarter         84853 non-null object\n",
      "ListingCategory                84853 non-null object\n",
      "dtypes: bool(2), category(1), float64(8), int64(3), object(7)\n",
      "memory usage: 15.0+ MB\n",
      "None\n",
      "    Term            LoanStatus  BorrowerAPR  LenderYield  ProsperScore  \\\n",
      "1     36               Current      0.12016       0.0820           7.0   \n",
      "3     36               Current      0.12528       0.0874           9.0   \n",
      "4     36               Current      0.24614       0.1985           4.0   \n",
      "5     60               Current      0.15425       0.1214          10.0   \n",
      "6     36               Current      0.31032       0.2612           2.0   \n",
      "7     36               Current      0.23939       0.1919           4.0   \n",
      "8     36               Current      0.07620       0.0529           9.0   \n",
      "9     36               Current      0.07620       0.0529          11.0   \n",
      "10    60               Current      0.27462       0.2389           7.0   \n",
      "12    36  Past Due (1-15 days)      0.17969       0.1335           4.0   \n",
      "\n",
      "   ProsperRating_Alpha  ListingCategory_numeric BorrowerState      Occupation  \\\n",
      "1                    A                        2            CO    Professional   \n",
      "3                    A                       16            GA   Skilled Labor   \n",
      "4                    D                        2            MN       Executive   \n",
      "5                    B                        1            NM    Professional   \n",
      "6                    E                        1            KS  Sales - Retail   \n",
      "7                    C                        2            CA         Laborer   \n",
      "8                   AA                        7            IL    Food Service   \n",
      "9                   AA                        7            IL    Food Service   \n",
      "10                   C                        1            MD         Fireman   \n",
      "12                   B                        1            AL  Sales - Retail   \n",
      "\n",
      "   EmploymentStatus         ...          CreditScoreRangeLower  \\\n",
      "1          Employed         ...                          680.0   \n",
      "3          Employed         ...                          800.0   \n",
      "4          Employed         ...                          680.0   \n",
      "5          Employed         ...                          740.0   \n",
      "6          Employed         ...                          680.0   \n",
      "7          Employed         ...                          700.0   \n",
      "8          Employed         ...                          820.0   \n",
      "9          Employed         ...                          820.0   \n",
      "10         Employed         ...                          640.0   \n",
      "12         Employed         ...                          680.0   \n",
      "\n",
      "    CreditScoreRangeUpper  OpenRevolvingMonthlyPayment  DebtToIncomeRatio  \\\n",
      "1                   699.0                        389.0               0.18   \n",
      "3                   819.0                        115.0               0.15   \n",
      "4                   699.0                        220.0               0.26   \n",
      "5                   759.0                       1410.0               0.36   \n",
      "6                   699.0                        214.0               0.27   \n",
      "7                   719.0                        101.0               0.24   \n",
      "8                   839.0                        219.0               0.25   \n",
      "9                   839.0                        219.0               0.25   \n",
      "10                  659.0                         25.0               0.12   \n",
      "12                  699.0                        290.0               0.18   \n",
      "\n",
      "       IncomeRange IncomeVerifiable  StatedMonthlyIncome  LoanOriginalAmount  \\\n",
      "1   $50,000-74,999             True          6125.000000               10000   \n",
      "3   $25,000-49,999             True          2875.000000               10000   \n",
      "4        $100,000+             True          9583.333333               15000   \n",
      "5        $100,000+             True          8333.333333               15000   \n",
      "6   $25,000-49,999             True          2083.333333                3000   \n",
      "7   $25,000-49,999             True          3355.750000               10000   \n",
      "8   $25,000-49,999             True          3333.333333               10000   \n",
      "9   $25,000-49,999             True          3333.333333               10000   \n",
      "10  $75,000-99,999             True          7500.000000               13500   \n",
      "12  $25,000-49,999             True          2416.666667                4000   \n",
      "\n",
      "    LoanOriginationQuarter     ListingCategory  \n",
      "1                  Q1 2014    Home Improvement  \n",
      "3                  Q4 2012          Motorcycle  \n",
      "4                  Q3 2013    Home Improvement  \n",
      "5                  Q4 2013  Debt Consolidation  \n",
      "6                  Q2 2013  Debt Consolidation  \n",
      "7                  Q2 2013    Home Improvement  \n",
      "8                  Q4 2013               Other  \n",
      "9                  Q4 2013               Other  \n",
      "10                 Q2 2012  Debt Consolidation  \n",
      "12                 Q1 2014  Debt Consolidation  \n",
      "\n",
      "[10 rows x 21 columns]\n"
     ]
    }
   ],
   "source": [
    "# high-level overview of data shape and composition\n",
    "print(df1.shape)\n",
    "print(df1.info())\n",
    "print(df1.head(10))"
   ]
  },
  {
   "cell_type": "markdown",
   "metadata": {},
   "source": [
    "### What is the structure of your dataset?\n",
    "\n",
    "> The total number of records in the dataset is 113937 and it has 81 columns(variables). There is a good mix of categorical and quantitative variables. However there are far too many in the dataset. We will limit our focus to 10 - 15 variables.\n",
    "\n",
    "### What is/are the main feature(s) of interest in your dataset?\n",
    "\n",
    "> After going through PROSPER and few other personal loan websites, APR seems to be the most important and interesting feature. \n",
    "> As this is a peer to peer lending business, lender yield another interesting feature in the dataset.\n",
    "> If the APR is too high Borrowers will decline the offer and on the flip side if APR is too low, lenders will lose on their oppurtunity to earn. \n",
    "\n",
    "### What features in the dataset do you think will help support your investigation into your feature(s) of interest?\n",
    "\n",
    "> Credit score and Custom calculated Prosper Score of the borrower will have the strongest effect on their APR. Other variables such as their Debt to income ratio, Monthly Income, loan amount will help us understand how their APRs get affected. \n",
    "> 1) My expectation is that  higher the credit score, Prosper Score and monthly income, lower will be the APR.  \n",
    "> 2) Higher the debt to income ratio and Loan amount, APR will be higher. \n",
    "> 3) On the other hand lender yield will be lower when the Prosper Score and credit score are higher. \n",
    "> 4) Also Higher APR will lead to Higher lender yield provided loan repayments are made promptly"
   ]
  },
  {
   "cell_type": "markdown",
   "metadata": {},
   "source": [
    "## Univariate Exploration\n",
    "\n",
    "> We will start off our exploration with the most interesting features in the dataset. \n",
    "<br> 1) Borrower APR \n",
    "<br> 2) Lender Yield\n",
    "<br>\n",
    "<br> Next we will look at other variables in the dataset that I think will support APR and Lender Yield."
   ]
  },
  {
   "cell_type": "code",
   "execution_count": 12,
   "metadata": {},
   "outputs": [
    {
     "name": "stdout",
     "output_type": "stream",
     "text": [
      "        BorrowerAPR   LenderYield\n",
      "count  84853.000000  84853.000000\n",
      "mean       0.226658      0.186017\n",
      "std        0.079916      0.074631\n",
      "min        0.045830      0.030000\n",
      "25%        0.163280      0.125900\n",
      "50%        0.219450      0.177500\n",
      "75%        0.292540      0.247400\n",
      "max        0.423950      0.340000\n"
     ]
    }
   ],
   "source": [
    "print(df1[['BorrowerAPR','LenderYield']].describe())"
   ]
  },
  {
   "cell_type": "code",
   "execution_count": 13,
   "metadata": {
    "scrolled": true
   },
   "outputs": [
    {
     "data": {
      "image/png": "[encoded data removed]",
      "text/plain": [
       "<Figure size 1080x360 with 2 Axes>"
      ]
     },
     "metadata": {
      "needs_background": "light"
     },
     "output_type": "display_data"
    }
   ],
   "source": [
    "# We can see that the distribution of BorrowerAPR and LenderYield have a relatively similar multimodal distribution with a giant spike at the end\n",
    "# The spike does not seem to be an outlier. Prosper Rates range from 6.95-35.99% and the spike seems to be the end of the range with high risk borrowers placed there.\n",
    "# It is highly likely these two will be positively correlated. We will check this during bivariate exploration\n",
    "\n",
    "plt.figure(figsize=[15, 5])\n",
    "\n",
    "plt.subplot(1, 2, 1) \n",
    "binsize1 = .01\n",
    "bins1 = np.arange(0, df1['BorrowerAPR'].max()+binsize1, binsize1)\n",
    "plt.hist(data = df1, x = 'BorrowerAPR', bins = bins1)\n",
    "plt.xlim([0,.45])\n",
    "plt.xlabel('BorrowerAPR');\n",
    "\n",
    "\n",
    "plt.subplot(1, 2, 2)\n",
    "binsize2 = .01\n",
    "bins2 = np.arange(0, df1['LenderYield'].max()+binsize2, binsize2)\n",
    "plt.hist(data = df1, x = 'LenderYield', bins = bins2)\n",
    "plt.xlim([0,.4])\n",
    "plt.xlabel('LenderYield');"
   ]
  },
  {
   "cell_type": "code",
   "execution_count": 14,
   "metadata": {},
   "outputs": [
    {
     "data": {
      "text/plain": [
       "ProsperRating_Alpha\n",
       "A     0.138909\n",
       "AA    0.090041\n",
       "B     0.184030\n",
       "C     0.226124\n",
       "D     0.280581\n",
       "E     0.330551\n",
       "HR    0.356061\n",
       "Name: BorrowerAPR, dtype: float64"
      ]
     },
     "execution_count": 14,
     "metadata": {},
     "output_type": "execute_result"
    }
   ],
   "source": [
    "df1.groupby('ProsperRating_Alpha')['BorrowerAPR'].mean()"
   ]
  },
  {
   "cell_type": "code",
   "execution_count": 15,
   "metadata": {},
   "outputs": [
    {
     "data": {
      "text/plain": [
       "A     14551\n",
       "AA     5372\n",
       "B     15581\n",
       "C     18345\n",
       "D     14274\n",
       "E      9795\n",
       "HR     6935\n",
       "Name: ProsperRating_Alpha, dtype: int64"
      ]
     },
     "execution_count": 15,
     "metadata": {},
     "output_type": "execute_result"
    }
   ],
   "source": [
    "df1['ProsperRating_Alpha'].value_counts().sort_index()"
   ]
  },
  {
   "cell_type": "code",
   "execution_count": 16,
   "metadata": {},
   "outputs": [
    {
     "data": {
      "text/plain": [
       "HR    5310\n",
       "E     2309\n",
       "D       19\n",
       "C        4\n",
       "Name: ProsperRating_Alpha, dtype: int64"
      ]
     },
     "execution_count": 16,
     "metadata": {},
     "output_type": "execute_result"
    }
   ],
   "source": [
    "df1.query(' BorrowerAPR >= .35 & BorrowerAPR < .37').ProsperRating_Alpha.value_counts()"
   ]
  },
  {
   "cell_type": "code",
   "execution_count": 17,
   "metadata": {},
   "outputs": [
    {
     "name": "stdout",
     "output_type": "stream",
     "text": [
      "       CreditScoreRangeLower  CreditScoreRangeUpper\n",
      "count           84853.000000           84853.000000\n",
      "mean              699.390240             718.390240\n",
      "std                47.095937              47.095937\n",
      "min               600.000000             619.000000\n",
      "25%               660.000000             679.000000\n",
      "50%               700.000000             719.000000\n",
      "75%               720.000000             739.000000\n",
      "max               880.000000             899.000000\n"
     ]
    }
   ],
   "source": [
    "print(df1[['CreditScoreRangeLower','CreditScoreRangeUpper']].describe())"
   ]
  },
  {
   "cell_type": "code",
   "execution_count": 18,
   "metadata": {
    "scrolled": true
   },
   "outputs": [
    {
     "data": {
      "image/png": "[encoded data removed]",
      "text/plain": [
       "<Figure size 1080x360 with 2 Axes>"
      ]
     },
     "metadata": {
      "needs_background": "light"
     },
     "output_type": "display_data"
    }
   ],
   "source": [
    "# We can see the data in the distribution start from 600. \n",
    "# This is because of Prospers requirement for a borrower to request loan. They need to have a FICO 8 credit score of \n",
    "# 1) at least 640 for new borrowers\n",
    "# 2) and a score of 600 for returning borrowers\n",
    "# Since peer to peer lending is an unsecured personal loan, Prosper is choosing its borrowers carefully to limit loan defaults.\n",
    "# The distribution is right skewed because the average credit score tends to be in the upper 690's and lower 700's.\n",
    "# https://www.experian.com/blogs/ask-experian/what-is-the-average-credit-score-in-the-u-s/\n",
    "\n",
    "plt.figure(figsize=[15, 5])\n",
    "\n",
    "plt.subplot(1, 2, 1) \n",
    "binsize1 = 20\n",
    "bins1 = np.arange(0, df1['CreditScoreRangeLower'].max()+binsize1, binsize1)\n",
    "plt.hist(data = df1, x = 'CreditScoreRangeLower', bins = bins1)\n",
    "plt.xlim([550,950])\n",
    "plt.xlabel('CreditScoreRangeLower')\n",
    "\n",
    "plt.subplot(1, 2, 2) \n",
    "binsize2 = 20\n",
    "bins2 = np.arange(0, df1['CreditScoreRangeUpper'].max()+binsize2, binsize2)\n",
    "plt.hist(data = df1, x = 'CreditScoreRangeUpper', bins = bins2)\n",
    "plt.xlim([550,950])\n",
    "plt.xlabel('CreditScoreRangeUpper');"
   ]
  },
  {
   "cell_type": "code",
   "execution_count": 19,
   "metadata": {},
   "outputs": [
    {
     "name": "stdout",
     "output_type": "stream",
     "text": [
      "       ProsperScore\n",
      "count  84853.000000\n",
      "mean       5.950067\n",
      "std        2.376501\n",
      "min        1.000000\n",
      "25%        4.000000\n",
      "50%        6.000000\n",
      "75%        8.000000\n",
      "max       11.000000\n"
     ]
    }
   ],
   "source": [
    "print(df1[['ProsperScore']].describe())"
   ]
  },
  {
   "cell_type": "code",
   "execution_count": 85,
   "metadata": {},
   "outputs": [
    {
     "data": {
      "image/png": "[encoded data removed]",
      "text/plain": [
       "<Figure size 432x288 with 1 Axes>"
      ]
     },
     "metadata": {
      "needs_background": "light"
     },
     "output_type": "display_data"
    }
   ],
   "source": [
    "# A custom risk score built using historical Prosper data. \n",
    "# The score ranges from 1-10, with 10 being the best, or lowest risk score.  \n",
    "# Applicable for loans originated after July 2009.\n",
    "# Unlike credit score which is right skewed, the distribution of ProsperScore looks normally distributed. It suggests overall risk is nicely balanced out.\n",
    "# I would still expect to see some degree of positive correlation between Prosper Score and Credit score which we will explore in a Bivariate Plot.\n",
    "\n",
    "\n",
    "base_color = sb.color_palette()[0]\n",
    "sb.countplot(data = df1, x = 'ProsperScore', color = base_color);"
   ]
  },
  {
   "cell_type": "code",
   "execution_count": 21,
   "metadata": {},
   "outputs": [
    {
     "data": {
      "image/png": "[encoded data removed]",
      "text/plain": [
       "<Figure size 576x576 with 1 Axes>"
      ]
     },
     "metadata": {
      "needs_background": "light"
     },
     "output_type": "display_data"
    }
   ],
   "source": [
    "# It must be rejoicing for the lenders to see close to 90% loan status are current or completed.\n",
    "\n",
    "# create the plot\n",
    "base_color = sb.color_palette()[0]\n",
    "plt.figure(figsize=[8, 8])\n",
    "cat_order = df1['LoanStatus'].value_counts().index\n",
    "sb.countplot(data = df1, x = 'LoanStatus', color = base_color, order = cat_order)\n",
    "\n",
    "# add annotations\n",
    "n_points = df1.shape[0]\n",
    "cat_counts = df1['LoanStatus'].value_counts()\n",
    "locs, labels = plt.xticks() # get the current tick locations and labels\n",
    "\n",
    "\n",
    "# loop through each pair of locations and labels\n",
    "for loc, label in zip(locs, labels):\n",
    "\n",
    "    # get the text property for the label to get the correct count\n",
    "    count = cat_counts[label.get_text()]\n",
    "    pct_string = '{:0.1f}%'.format(100*count/n_points)\n",
    "    \n",
    "    # print the annotation just below the top of the bar\n",
    "    plt.text(loc, count-8, pct_string, ha = 'center', color = 'r')\n",
    "    plt.xticks(rotation = 90);"
   ]
  },
  {
   "cell_type": "code",
   "execution_count": 22,
   "metadata": {},
   "outputs": [
    {
     "data": {
      "image/png": "[encoded data removed]",
      "text/plain": [
       "<Figure size 576x360 with 1 Axes>"
      ]
     },
     "metadata": {
      "needs_background": "light"
     },
     "output_type": "display_data"
    }
   ],
   "source": [
    "# The distribution is right skewed. It is interesting to see lot borrowers with low DebtToIncomeRatio are procuring loan.\n",
    "# A look at the reason why the loans are sought will help us understand why these borrowers are seeking loans.\n",
    "\n",
    "binsize = .02\n",
    "bins = np.arange(0, df1['DebtToIncomeRatio'].max()+binsize, binsize)\n",
    "\n",
    "plt.figure(figsize=[8, 5])\n",
    "plt.hist(data = df1, x = 'DebtToIncomeRatio', bins = bins)\n",
    "plt.xlim([0,1])\n",
    "plt.xlabel('DebtToIncomeRatio')\n",
    "plt.show()"
   ]
  },
  {
   "cell_type": "code",
   "execution_count": 36,
   "metadata": {},
   "outputs": [
    {
     "data": {
      "image/png": "[encoded data removed]",
      "text/plain": [
       "<Figure size 576x360 with 1 Axes>"
      ]
     },
     "metadata": {
      "needs_background": "light"
     },
     "output_type": "display_data"
    }
   ],
   "source": [
    "# It appears majority of the loans sought are for the purpose of debt consolidation.\n",
    "# It makes sense that we are not seeing a larger DebtToIncomeRatio because the majority of loans are taken for debt consolidation.\n",
    "# Debt consolidation rolls high-interest debts, such as credit card bills, into a single, lower-interest payment.\n",
    "# Essentially it transfer of debt from one institution to other and reduce high interest payments.\n",
    "# https://www.nerdwallet.com/blog/finance/consolidate-debt/\n",
    "\n",
    "base_color = sb.color_palette()[0]\n",
    "plt.figure(figsize=[8,5])\n",
    "cat_order = df1['ListingCategory'].value_counts().index\n",
    "sb.countplot(data = df1, y = 'ListingCategory', color = base_color , order = cat_order);\n",
    "#plt.xticks(rotation = 90);"
   ]
  },
  {
   "cell_type": "code",
   "execution_count": 24,
   "metadata": {
    "scrolled": false
   },
   "outputs": [
    {
     "data": {
      "image/png": "[encoded data removed]",
      "text/plain": [
       "<Figure size 1800x576 with 1 Axes>"
      ]
     },
     "metadata": {
      "needs_background": "light"
     },
     "output_type": "display_data"
    }
   ],
   "source": [
    "# The distribution of the loans by state closely follows the distribution of states with largest population.\n",
    "\n",
    "# create the plot\n",
    "base_color = sb.color_palette()[0]\n",
    "plt.figure(figsize=[25, 8])\n",
    "cat_order = df1['BorrowerState'].value_counts().index\n",
    "sb.countplot(data = df1, x = 'BorrowerState', color = base_color, order = cat_order)\n",
    "\n",
    "# add annotations\n",
    "n_points = df1.shape[0]\n",
    "cat_counts = df1['BorrowerState'].value_counts()\n",
    "locs, labels = plt.xticks() # get the current tick locations and labels\n",
    "\n",
    "\n",
    "# loop through each pair of locations and labels\n",
    "for loc, label in zip(locs, labels):\n",
    "\n",
    "    # get the text property for the label to get the correct count\n",
    "    count = cat_counts[label.get_text()]\n",
    "    pct_string = '{:0.1f}%'.format(100*count/n_points)\n",
    "    \n",
    "    # print the annotation just below the top of the bar\n",
    "    plt.text(loc, count-8, pct_string, ha = 'center', color = 'r')"
   ]
  },
  {
   "cell_type": "code",
   "execution_count": 43,
   "metadata": {},
   "outputs": [],
   "source": [
    "# IncomeRange is an ordinal categorical variable. PLotting it as-is will not show us any insight readily. \n",
    "# Hence we will order it before plot a barchart of it.\n",
    "\n",
    "var = ['Not employed','$0','$1-24,999','$25,000-49,999','$50,000-74,999','$75,000-99,999','$100,000+']\n",
    "ordered_var = pd.api.types.CategoricalDtype(ordered = True,\n",
    "                                                categories = var)\n",
    "df1['IncomeRange'] = df1['IncomeRange'].astype(ordered_var) "
   ]
  },
  {
   "cell_type": "code",
   "execution_count": null,
   "metadata": {},
   "outputs": [],
   "source": [
    "df1.IncomeRange.value_counts(sort = False)"
   ]
  },
  {
   "cell_type": "code",
   "execution_count": 45,
   "metadata": {},
   "outputs": [
    {
     "data": {
      "image/png": "[encoded data removed]",
      "text/plain": [
       "<Figure size 576x360 with 1 Axes>"
      ]
     },
     "metadata": {
      "needs_background": "light"
     },
     "output_type": "display_data"
    }
   ],
   "source": [
    "# The ordered barchart shows that majority of borrowers have an income range between $25000 - $74999\n",
    "\n",
    "base_color = sb.color_palette()[0]\n",
    "plt.figure(figsize=[8,5])\n",
    "sb.countplot(data = df1, x = 'IncomeRange', color = base_color);\n",
    "plt.xticks(rotation = 90);"
   ]
  },
  {
   "cell_type": "code",
   "execution_count": null,
   "metadata": {},
   "outputs": [],
   "source": [
    "# Calculations to show mean and median of StatedMonthlyIncome variable.\n",
    "\n",
    "MonthlyIncome25k_75k_mean = df1.query(' StatedMonthlyIncome >= 25000/12 & StatedMonthlyIncome < 74999/12').StatedMonthlyIncome.mean()\n",
    "MonthlyIncome_mean = df1.StatedMonthlyIncome.mean()\n",
    "MonthlyIncome_median = df1.StatedMonthlyIncome.media"
   ]
  },
  {
   "cell_type": "code",
   "execution_count": 77,
   "metadata": {
    "scrolled": false
   },
   "outputs": [
    {
     "data": {
      "image/png": "[encoded data removed]",
      "text/plain": [
       "<Figure size 1080x360 with 2 Axes>"
      ]
     },
     "metadata": {
      "needs_background": "light"
     },
     "output_type": "display_data"
    }
   ],
   "source": [
    "# Lets plot StatedMonthlyIncome and IncomeRange side by side and see if they match.\n",
    "# StatedMonthlyIncome is right skewed and has a median close to the mean of MonthlyIncome between 25k/12 and 75k/12.\n",
    "# The distribution closely matches the income range on the right.\n",
    "\n",
    "plt.figure(figsize=[15, 5])\n",
    "\n",
    "plt.subplot(1, 2, 1) \n",
    "binsize1 = 1000\n",
    "bins1 = np.arange(0, df1['StatedMonthlyIncome'].max()+binsize1, binsize1)\n",
    "plt.hist(data = df1, x = 'StatedMonthlyIncome', bins = bins1)\n",
    "plt.xlim([0,20000])\n",
    "plt.axvline(MonthlyIncome25k_75k_mean, c='red');\n",
    "plt.axvline(MonthlyIncome_mean, c='yellow');\n",
    "plt.axvline(MonthlyIncome_median, c='cyan');\n",
    "plt.xlabel('StatedMonthlyIncome');\n",
    "\n",
    "plt.subplot(1, 2, 2)\n",
    "base_color = sb.color_palette()[0]\n",
    "sb.countplot(data = df1, x = 'IncomeRange', color = base_color);\n",
    "plt.xticks(rotation = 90);"
   ]
  },
  {
   "cell_type": "code",
   "execution_count": 51,
   "metadata": {},
   "outputs": [
    {
     "data": {
      "image/png": "[encoded data removed]",
      "text/plain": [
       "<Figure size 360x864 with 3 Axes>"
      ]
     },
     "metadata": {
      "needs_background": "light"
     },
     "output_type": "display_data"
    }
   ],
   "source": [
    "# let's plot some of the other categorical variables to get some insights.\n",
    "# Most loans are taken for 36 months term.\n",
    "# 88% borrowers incomes are verifiable\n",
    "# More than half of the borrowers are home owners.\n",
    "\n",
    "fig, ax = plt.subplots(nrows=3, figsize = [5,12])\n",
    "\n",
    "default_color = sb.color_palette()[0]\n",
    "sb.countplot(data = df1, x = 'Term', color = default_color, ax = ax[0])\n",
    "sb.countplot(data = df1, x = 'IncomeVerifiable', color = default_color, ax = ax[1])\n",
    "sb.countplot(data = df1, x = 'IsBorrowerHomeowner', color = default_color, ax = ax[2])\n",
    "\n",
    "plt.show()"
   ]
  },
  {
   "cell_type": "code",
   "execution_count": 29,
   "metadata": {
    "scrolled": false
   },
   "outputs": [
    {
     "name": "stdout",
     "output_type": "stream",
     "text": [
      "       LoanOriginalAmount  OpenRevolvingMonthlyPayment\n",
      "count        84853.000000                 84853.000000\n",
      "mean          9083.440515                   430.721954\n",
      "std           6287.860058                   425.874661\n",
      "min           1000.000000                     0.000000\n",
      "25%           4000.000000                   156.000000\n",
      "50%           7500.000000                   311.000000\n",
      "75%          13500.000000                   564.000000\n",
      "max          35000.000000                 13765.000000\n"
     ]
    }
   ],
   "source": [
    "# Descriptive statistics for 'LoanOriginalAmount','OpenRevolvingMonthlyPayment' to find bin size for the plots\n",
    "\n",
    "print(df1[['LoanOriginalAmount','OpenRevolvingMonthlyPayment']].describe())"
   ]
  },
  {
   "cell_type": "code",
   "execution_count": 83,
   "metadata": {},
   "outputs": [
    {
     "data": {
      "image/png": "[encoded data removed]",
      "text/plain": [
       "<Figure size 576x360 with 1 Axes>"
      ]
     },
     "metadata": {
      "needs_background": "light"
     },
     "output_type": "display_data"
    }
   ],
   "source": [
    "# The histogram alone does not tell clearly how the distribution for loan amount is.\n",
    "# There are few spikes near 4k, 10k and 15k\n",
    "# Let us use seaborn to create a distplot\n",
    "\n",
    "binsize = 500\n",
    "bins = np.arange(0, df1['LoanOriginalAmount'].max()+binsize, binsize)\n",
    "\n",
    "plt.figure(figsize=[8, 5])\n",
    "plt.hist(data = df1, x = 'LoanOriginalAmount', bins = bins)\n",
    "plt.xlim([0,35000])\n",
    "plt.xlabel('LoanOriginalAmount')\n",
    "plt.show()"
   ]
  },
  {
   "cell_type": "code",
   "execution_count": 60,
   "metadata": {},
   "outputs": [
    {
     "data": {
      "image/png": "[encoded data removed]",
      "text/plain": [
       "<Figure size 432x288 with 1 Axes>"
      ]
     },
     "metadata": {
      "needs_background": "light"
     },
     "output_type": "display_data"
    }
   ],
   "source": [
    "# From plot below LoanOriginalAmount looks multimodal distrubution and is right skewed. \n",
    "\n",
    "sb.distplot(df1['LoanOriginalAmount']);"
   ]
  },
  {
   "cell_type": "code",
   "execution_count": 86,
   "metadata": {},
   "outputs": [
    {
     "data": {
      "image/png": "[encoded data removed]",
      "text/plain": [
       "<Figure size 576x360 with 1 Axes>"
      ]
     },
     "metadata": {
      "needs_background": "light"
     },
     "output_type": "display_data"
    }
   ],
   "source": [
    "# The distribution is right skewed with median close to $250. There arent lot of monthly payments greater than $2500\n",
    "\n",
    "binsize = 100\n",
    "bins = np.arange(0, df1['OpenRevolvingMonthlyPayment'].max()+binsize, binsize)\n",
    "\n",
    "plt.figure(figsize=[8, 5])\n",
    "plt.hist(data = df1, x = 'OpenRevolvingMonthlyPayment', bins = bins)\n",
    "plt.xlim([0,3000])\n",
    "plt.xlabel('OpenRevolvingMonthlyPayment')\n",
    "plt.show()"
   ]
  },
  {
   "cell_type": "code",
   "execution_count": null,
   "metadata": {},
   "outputs": [],
   "source": []
  },
  {
   "cell_type": "code",
   "execution_count": null,
   "metadata": {},
   "outputs": [],
   "source": []
  },
  {
   "cell_type": "code",
   "execution_count": null,
   "metadata": {},
   "outputs": [],
   "source": []
  },
  {
   "cell_type": "code",
   "execution_count": null,
   "metadata": {},
   "outputs": [],
   "source": []
  },
  {
   "cell_type": "code",
   "execution_count": null,
   "metadata": {},
   "outputs": [],
   "source": []
  },
  {
   "cell_type": "code",
   "execution_count": null,
   "metadata": {},
   "outputs": [],
   "source": []
  },
  {
   "cell_type": "code",
   "execution_count": 32,
   "metadata": {},
   "outputs": [
    {
     "data": {
      "image/png": "[encoded data removed]",
      "text/plain": [
       "<Figure size 576x360 with 1 Axes>"
      ]
     },
     "metadata": {
      "needs_background": "light"
     },
     "output_type": "display_data"
    }
   ],
   "source": [
    "# plotting Credit Score on a standard scale\n",
    "binsize = 20\n",
    "bins = np.arange(0, df1['CreditScoreRangeLower'].max()+binsize, binsize)\n",
    "\n",
    "plt.figure(figsize=[8, 5])\n",
    "\n",
    "plt.hist(data = df1, x = 'CreditScoreRangeLower', bins = bins)\n",
    "plt.xlim([0,950])\n",
    "plt.xlabel('CreditScoreRangeLower')\n",
    "plt.show()"
   ]
  },
  {
   "cell_type": "code",
   "execution_count": 33,
   "metadata": {
    "scrolled": false
   },
   "outputs": [
    {
     "data": {
      "image/png": "[encoded data removed]",
      "text/plain": [
       "<Figure size 576x360 with 1 Axes>"
      ]
     },
     "metadata": {
      "needs_background": "light"
     },
     "output_type": "display_data"
    }
   ],
   "source": [
    "# plotting Credit Score on a standard scale\n",
    "\n",
    "binsize = 20\n",
    "bins = np.arange(0, df1['CreditScoreRangeUpper'].max()+binsize, binsize)\n",
    "\n",
    "plt.figure(figsize=[8, 5])\n",
    "plt.hist(data = df1, x = 'CreditScoreRangeUpper', bins = bins)\n",
    "plt.xlim([300,950])\n",
    "plt.xlabel('CreditScoreRangeUpper')\n",
    "plt.show()"
   ]
  },
  {
   "cell_type": "code",
   "execution_count": 34,
   "metadata": {
    "scrolled": true
   },
   "outputs": [
    {
     "ename": "KeyError",
     "evalue": "'ListingCategory (numeric)'",
     "output_type": "error",
     "traceback": [
      "\u001b[1;31m---------------------------------------------------------------------------\u001b[0m",
      "\u001b[1;31mKeyError\u001b[0m                                  Traceback (most recent call last)",
      "\u001b[1;32m~\\Anaconda3\\lib\\site-packages\\pandas\\core\\indexes\\base.py\u001b[0m in \u001b[0;36mget_loc\u001b[1;34m(self, key, method, tolerance)\u001b[0m\n\u001b[0;32m   3077\u001b[0m             \u001b[1;32mtry\u001b[0m\u001b[1;33m:\u001b[0m\u001b[1;33m\u001b[0m\u001b[1;33m\u001b[0m\u001b[0m\n\u001b[1;32m-> 3078\u001b[1;33m                 \u001b[1;32mreturn\u001b[0m \u001b[0mself\u001b[0m\u001b[1;33m.\u001b[0m\u001b[0m_engine\u001b[0m\u001b[1;33m.\u001b[0m\u001b[0mget_loc\u001b[0m\u001b[1;33m(\u001b[0m\u001b[0mkey\u001b[0m\u001b[1;33m)\u001b[0m\u001b[1;33m\u001b[0m\u001b[1;33m\u001b[0m\u001b[0m\n\u001b[0m\u001b[0;32m   3079\u001b[0m             \u001b[1;32mexcept\u001b[0m \u001b[0mKeyError\u001b[0m\u001b[1;33m:\u001b[0m\u001b[1;33m\u001b[0m\u001b[1;33m\u001b[0m\u001b[0m\n",
      "\u001b[1;32mpandas\\_libs\\index.pyx\u001b[0m in \u001b[0;36mpandas._libs.index.IndexEngine.get_loc\u001b[1;34m()\u001b[0m\n",
      "\u001b[1;32mpandas\\_libs\\index.pyx\u001b[0m in \u001b[0;36mpandas._libs.index.IndexEngine.get_loc\u001b[1;34m()\u001b[0m\n",
      "\u001b[1;32mpandas\\_libs\\hashtable_class_helper.pxi\u001b[0m in \u001b[0;36mpandas._libs.hashtable.PyObjectHashTable.get_item\u001b[1;34m()\u001b[0m\n",
      "\u001b[1;32mpandas\\_libs\\hashtable_class_helper.pxi\u001b[0m in \u001b[0;36mpandas._libs.hashtable.PyObjectHashTable.get_item\u001b[1;34m()\u001b[0m\n",
      "\u001b[1;31mKeyError\u001b[0m: 'ListingCategory (numeric)'",
      "\nDuring handling of the above exception, another exception occurred:\n",
      "\u001b[1;31mKeyError\u001b[0m                                  Traceback (most recent call last)",
      "\u001b[1;32m<ipython-input-34-19bd96c2de32>\u001b[0m in \u001b[0;36m<module>\u001b[1;34m\u001b[0m\n\u001b[0;32m      1\u001b[0m \u001b[0mbase_color\u001b[0m \u001b[1;33m=\u001b[0m \u001b[0msb\u001b[0m\u001b[1;33m.\u001b[0m\u001b[0mcolor_palette\u001b[0m\u001b[1;33m(\u001b[0m\u001b[1;33m)\u001b[0m\u001b[1;33m[\u001b[0m\u001b[1;36m0\u001b[0m\u001b[1;33m]\u001b[0m\u001b[1;33m\u001b[0m\u001b[1;33m\u001b[0m\u001b[0m\n\u001b[0;32m      2\u001b[0m \u001b[0mplt\u001b[0m\u001b[1;33m.\u001b[0m\u001b[0mfigure\u001b[0m\u001b[1;33m(\u001b[0m\u001b[0mfigsize\u001b[0m\u001b[1;33m=\u001b[0m\u001b[1;33m[\u001b[0m\u001b[1;36m8\u001b[0m\u001b[1;33m,\u001b[0m\u001b[1;36m5\u001b[0m\u001b[1;33m]\u001b[0m\u001b[1;33m)\u001b[0m\u001b[1;33m\u001b[0m\u001b[1;33m\u001b[0m\u001b[0m\n\u001b[1;32m----> 3\u001b[1;33m \u001b[0mcat_order\u001b[0m \u001b[1;33m=\u001b[0m \u001b[0mdf1\u001b[0m\u001b[1;33m[\u001b[0m\u001b[1;34m'ListingCategory (numeric)'\u001b[0m\u001b[1;33m]\u001b[0m\u001b[1;33m.\u001b[0m\u001b[0mvalue_counts\u001b[0m\u001b[1;33m(\u001b[0m\u001b[1;33m)\u001b[0m\u001b[1;33m.\u001b[0m\u001b[0mindex\u001b[0m\u001b[1;33m\u001b[0m\u001b[1;33m\u001b[0m\u001b[0m\n\u001b[0m\u001b[0;32m      4\u001b[0m \u001b[0msb\u001b[0m\u001b[1;33m.\u001b[0m\u001b[0mcountplot\u001b[0m\u001b[1;33m(\u001b[0m\u001b[0mdata\u001b[0m \u001b[1;33m=\u001b[0m \u001b[0mdf1\u001b[0m\u001b[1;33m,\u001b[0m \u001b[0mx\u001b[0m \u001b[1;33m=\u001b[0m \u001b[1;34m'ListingCategory (numeric)'\u001b[0m\u001b[1;33m,\u001b[0m \u001b[0mcolor\u001b[0m \u001b[1;33m=\u001b[0m \u001b[0mbase_color\u001b[0m \u001b[1;33m,\u001b[0m \u001b[0morder\u001b[0m \u001b[1;33m=\u001b[0m \u001b[0mcat_order\u001b[0m\u001b[1;33m)\u001b[0m\u001b[1;33m;\u001b[0m\u001b[1;33m\u001b[0m\u001b[1;33m\u001b[0m\u001b[0m\n\u001b[0;32m      5\u001b[0m \u001b[0mplt\u001b[0m\u001b[1;33m.\u001b[0m\u001b[0mxticks\u001b[0m\u001b[1;33m(\u001b[0m\u001b[0mrotation\u001b[0m \u001b[1;33m=\u001b[0m \u001b[1;36m90\u001b[0m\u001b[1;33m)\u001b[0m\u001b[1;33m;\u001b[0m\u001b[1;33m\u001b[0m\u001b[1;33m\u001b[0m\u001b[0m\n",
      "\u001b[1;32m~\\Anaconda3\\lib\\site-packages\\pandas\\core\\frame.py\u001b[0m in \u001b[0;36m__getitem__\u001b[1;34m(self, key)\u001b[0m\n\u001b[0;32m   2686\u001b[0m             \u001b[1;32mreturn\u001b[0m \u001b[0mself\u001b[0m\u001b[1;33m.\u001b[0m\u001b[0m_getitem_multilevel\u001b[0m\u001b[1;33m(\u001b[0m\u001b[0mkey\u001b[0m\u001b[1;33m)\u001b[0m\u001b[1;33m\u001b[0m\u001b[1;33m\u001b[0m\u001b[0m\n\u001b[0;32m   2687\u001b[0m         \u001b[1;32melse\u001b[0m\u001b[1;33m:\u001b[0m\u001b[1;33m\u001b[0m\u001b[1;33m\u001b[0m\u001b[0m\n\u001b[1;32m-> 2688\u001b[1;33m             \u001b[1;32mreturn\u001b[0m \u001b[0mself\u001b[0m\u001b[1;33m.\u001b[0m\u001b[0m_getitem_column\u001b[0m\u001b[1;33m(\u001b[0m\u001b[0mkey\u001b[0m\u001b[1;33m)\u001b[0m\u001b[1;33m\u001b[0m\u001b[1;33m\u001b[0m\u001b[0m\n\u001b[0m\u001b[0;32m   2689\u001b[0m \u001b[1;33m\u001b[0m\u001b[0m\n\u001b[0;32m   2690\u001b[0m     \u001b[1;32mdef\u001b[0m \u001b[0m_getitem_column\u001b[0m\u001b[1;33m(\u001b[0m\u001b[0mself\u001b[0m\u001b[1;33m,\u001b[0m \u001b[0mkey\u001b[0m\u001b[1;33m)\u001b[0m\u001b[1;33m:\u001b[0m\u001b[1;33m\u001b[0m\u001b[1;33m\u001b[0m\u001b[0m\n",
      "\u001b[1;32m~\\Anaconda3\\lib\\site-packages\\pandas\\core\\frame.py\u001b[0m in \u001b[0;36m_getitem_column\u001b[1;34m(self, key)\u001b[0m\n\u001b[0;32m   2693\u001b[0m         \u001b[1;31m# get column\u001b[0m\u001b[1;33m\u001b[0m\u001b[1;33m\u001b[0m\u001b[1;33m\u001b[0m\u001b[0m\n\u001b[0;32m   2694\u001b[0m         \u001b[1;32mif\u001b[0m \u001b[0mself\u001b[0m\u001b[1;33m.\u001b[0m\u001b[0mcolumns\u001b[0m\u001b[1;33m.\u001b[0m\u001b[0mis_unique\u001b[0m\u001b[1;33m:\u001b[0m\u001b[1;33m\u001b[0m\u001b[1;33m\u001b[0m\u001b[0m\n\u001b[1;32m-> 2695\u001b[1;33m             \u001b[1;32mreturn\u001b[0m \u001b[0mself\u001b[0m\u001b[1;33m.\u001b[0m\u001b[0m_get_item_cache\u001b[0m\u001b[1;33m(\u001b[0m\u001b[0mkey\u001b[0m\u001b[1;33m)\u001b[0m\u001b[1;33m\u001b[0m\u001b[1;33m\u001b[0m\u001b[0m\n\u001b[0m\u001b[0;32m   2696\u001b[0m \u001b[1;33m\u001b[0m\u001b[0m\n\u001b[0;32m   2697\u001b[0m         \u001b[1;31m# duplicate columns & possible reduce dimensionality\u001b[0m\u001b[1;33m\u001b[0m\u001b[1;33m\u001b[0m\u001b[1;33m\u001b[0m\u001b[0m\n",
      "\u001b[1;32m~\\Anaconda3\\lib\\site-packages\\pandas\\core\\generic.py\u001b[0m in \u001b[0;36m_get_item_cache\u001b[1;34m(self, item)\u001b[0m\n\u001b[0;32m   2487\u001b[0m         \u001b[0mres\u001b[0m \u001b[1;33m=\u001b[0m \u001b[0mcache\u001b[0m\u001b[1;33m.\u001b[0m\u001b[0mget\u001b[0m\u001b[1;33m(\u001b[0m\u001b[0mitem\u001b[0m\u001b[1;33m)\u001b[0m\u001b[1;33m\u001b[0m\u001b[1;33m\u001b[0m\u001b[0m\n\u001b[0;32m   2488\u001b[0m         \u001b[1;32mif\u001b[0m \u001b[0mres\u001b[0m \u001b[1;32mis\u001b[0m \u001b[1;32mNone\u001b[0m\u001b[1;33m:\u001b[0m\u001b[1;33m\u001b[0m\u001b[1;33m\u001b[0m\u001b[0m\n\u001b[1;32m-> 2489\u001b[1;33m             \u001b[0mvalues\u001b[0m \u001b[1;33m=\u001b[0m \u001b[0mself\u001b[0m\u001b[1;33m.\u001b[0m\u001b[0m_data\u001b[0m\u001b[1;33m.\u001b[0m\u001b[0mget\u001b[0m\u001b[1;33m(\u001b[0m\u001b[0mitem\u001b[0m\u001b[1;33m)\u001b[0m\u001b[1;33m\u001b[0m\u001b[1;33m\u001b[0m\u001b[0m\n\u001b[0m\u001b[0;32m   2490\u001b[0m             \u001b[0mres\u001b[0m \u001b[1;33m=\u001b[0m \u001b[0mself\u001b[0m\u001b[1;33m.\u001b[0m\u001b[0m_box_item_values\u001b[0m\u001b[1;33m(\u001b[0m\u001b[0mitem\u001b[0m\u001b[1;33m,\u001b[0m \u001b[0mvalues\u001b[0m\u001b[1;33m)\u001b[0m\u001b[1;33m\u001b[0m\u001b[1;33m\u001b[0m\u001b[0m\n\u001b[0;32m   2491\u001b[0m             \u001b[0mcache\u001b[0m\u001b[1;33m[\u001b[0m\u001b[0mitem\u001b[0m\u001b[1;33m]\u001b[0m \u001b[1;33m=\u001b[0m \u001b[0mres\u001b[0m\u001b[1;33m\u001b[0m\u001b[1;33m\u001b[0m\u001b[0m\n",
      "\u001b[1;32m~\\Anaconda3\\lib\\site-packages\\pandas\\core\\internals.py\u001b[0m in \u001b[0;36mget\u001b[1;34m(self, item, fastpath)\u001b[0m\n\u001b[0;32m   4113\u001b[0m \u001b[1;33m\u001b[0m\u001b[0m\n\u001b[0;32m   4114\u001b[0m             \u001b[1;32mif\u001b[0m \u001b[1;32mnot\u001b[0m \u001b[0misna\u001b[0m\u001b[1;33m(\u001b[0m\u001b[0mitem\u001b[0m\u001b[1;33m)\u001b[0m\u001b[1;33m:\u001b[0m\u001b[1;33m\u001b[0m\u001b[1;33m\u001b[0m\u001b[0m\n\u001b[1;32m-> 4115\u001b[1;33m                 \u001b[0mloc\u001b[0m \u001b[1;33m=\u001b[0m \u001b[0mself\u001b[0m\u001b[1;33m.\u001b[0m\u001b[0mitems\u001b[0m\u001b[1;33m.\u001b[0m\u001b[0mget_loc\u001b[0m\u001b[1;33m(\u001b[0m\u001b[0mitem\u001b[0m\u001b[1;33m)\u001b[0m\u001b[1;33m\u001b[0m\u001b[1;33m\u001b[0m\u001b[0m\n\u001b[0m\u001b[0;32m   4116\u001b[0m             \u001b[1;32melse\u001b[0m\u001b[1;33m:\u001b[0m\u001b[1;33m\u001b[0m\u001b[1;33m\u001b[0m\u001b[0m\n\u001b[0;32m   4117\u001b[0m                 \u001b[0mindexer\u001b[0m \u001b[1;33m=\u001b[0m \u001b[0mnp\u001b[0m\u001b[1;33m.\u001b[0m\u001b[0marange\u001b[0m\u001b[1;33m(\u001b[0m\u001b[0mlen\u001b[0m\u001b[1;33m(\u001b[0m\u001b[0mself\u001b[0m\u001b[1;33m.\u001b[0m\u001b[0mitems\u001b[0m\u001b[1;33m)\u001b[0m\u001b[1;33m)\u001b[0m\u001b[1;33m[\u001b[0m\u001b[0misna\u001b[0m\u001b[1;33m(\u001b[0m\u001b[0mself\u001b[0m\u001b[1;33m.\u001b[0m\u001b[0mitems\u001b[0m\u001b[1;33m)\u001b[0m\u001b[1;33m]\u001b[0m\u001b[1;33m\u001b[0m\u001b[1;33m\u001b[0m\u001b[0m\n",
      "\u001b[1;32m~\\Anaconda3\\lib\\site-packages\\pandas\\core\\indexes\\base.py\u001b[0m in \u001b[0;36mget_loc\u001b[1;34m(self, key, method, tolerance)\u001b[0m\n\u001b[0;32m   3078\u001b[0m                 \u001b[1;32mreturn\u001b[0m \u001b[0mself\u001b[0m\u001b[1;33m.\u001b[0m\u001b[0m_engine\u001b[0m\u001b[1;33m.\u001b[0m\u001b[0mget_loc\u001b[0m\u001b[1;33m(\u001b[0m\u001b[0mkey\u001b[0m\u001b[1;33m)\u001b[0m\u001b[1;33m\u001b[0m\u001b[1;33m\u001b[0m\u001b[0m\n\u001b[0;32m   3079\u001b[0m             \u001b[1;32mexcept\u001b[0m \u001b[0mKeyError\u001b[0m\u001b[1;33m:\u001b[0m\u001b[1;33m\u001b[0m\u001b[1;33m\u001b[0m\u001b[0m\n\u001b[1;32m-> 3080\u001b[1;33m                 \u001b[1;32mreturn\u001b[0m \u001b[0mself\u001b[0m\u001b[1;33m.\u001b[0m\u001b[0m_engine\u001b[0m\u001b[1;33m.\u001b[0m\u001b[0mget_loc\u001b[0m\u001b[1;33m(\u001b[0m\u001b[0mself\u001b[0m\u001b[1;33m.\u001b[0m\u001b[0m_maybe_cast_indexer\u001b[0m\u001b[1;33m(\u001b[0m\u001b[0mkey\u001b[0m\u001b[1;33m)\u001b[0m\u001b[1;33m)\u001b[0m\u001b[1;33m\u001b[0m\u001b[1;33m\u001b[0m\u001b[0m\n\u001b[0m\u001b[0;32m   3081\u001b[0m \u001b[1;33m\u001b[0m\u001b[0m\n\u001b[0;32m   3082\u001b[0m         \u001b[0mindexer\u001b[0m \u001b[1;33m=\u001b[0m \u001b[0mself\u001b[0m\u001b[1;33m.\u001b[0m\u001b[0mget_indexer\u001b[0m\u001b[1;33m(\u001b[0m\u001b[1;33m[\u001b[0m\u001b[0mkey\u001b[0m\u001b[1;33m]\u001b[0m\u001b[1;33m,\u001b[0m \u001b[0mmethod\u001b[0m\u001b[1;33m=\u001b[0m\u001b[0mmethod\u001b[0m\u001b[1;33m,\u001b[0m \u001b[0mtolerance\u001b[0m\u001b[1;33m=\u001b[0m\u001b[0mtolerance\u001b[0m\u001b[1;33m)\u001b[0m\u001b[1;33m\u001b[0m\u001b[1;33m\u001b[0m\u001b[0m\n",
      "\u001b[1;32mpandas\\_libs\\index.pyx\u001b[0m in \u001b[0;36mpandas._libs.index.IndexEngine.get_loc\u001b[1;34m()\u001b[0m\n",
      "\u001b[1;32mpandas\\_libs\\index.pyx\u001b[0m in \u001b[0;36mpandas._libs.index.IndexEngine.get_loc\u001b[1;34m()\u001b[0m\n",
      "\u001b[1;32mpandas\\_libs\\hashtable_class_helper.pxi\u001b[0m in \u001b[0;36mpandas._libs.hashtable.PyObjectHashTable.get_item\u001b[1;34m()\u001b[0m\n",
      "\u001b[1;32mpandas\\_libs\\hashtable_class_helper.pxi\u001b[0m in \u001b[0;36mpandas._libs.hashtable.PyObjectHashTable.get_item\u001b[1;34m()\u001b[0m\n",
      "\u001b[1;31mKeyError\u001b[0m: 'ListingCategory (numeric)'"
     ]
    },
    {
     "data": {
      "text/plain": [
       "<Figure size 576x360 with 0 Axes>"
      ]
     },
     "metadata": {},
     "output_type": "display_data"
    }
   ],
   "source": [
    "base_color = sb.color_palette()[0]\n",
    "plt.figure(figsize=[8,5])\n",
    "cat_order = df1['ListingCategory'].value_counts().index\n",
    "sb.countplot(data = df1, x = 'ListingCategory', color = base_color , order = cat_order);\n",
    "plt.xticks(rotation = 90);"
   ]
  },
  {
   "cell_type": "code",
   "execution_count": null,
   "metadata": {},
   "outputs": [],
   "source": [
    "base_color = sb.color_palette()[0]\n",
    "plt.figure(figsize=[8,15])\n",
    "cat_order = df1['Occupation'].value_counts().index\n",
    "sb.countplot(data = df1, y = 'Occupation', color = base_color , order = cat_order);"
   ]
  },
  {
   "cell_type": "code",
   "execution_count": null,
   "metadata": {
    "scrolled": true
   },
   "outputs": [],
   "source": [
    "base_color = sb.color_palette()[0]\n",
    "sb.countplot(data = df1, x = 'ProsperScore', color = base_color);"
   ]
  },
  {
   "cell_type": "code",
   "execution_count": null,
   "metadata": {
    "scrolled": false
   },
   "outputs": [],
   "source": [
    "base_color = sb.color_palette()[0]\n",
    "sb.countplot(data = df1, x = 'Term', color = base_color);"
   ]
  },
  {
   "cell_type": "code",
   "execution_count": null,
   "metadata": {},
   "outputs": [],
   "source": [
    "base_color = sb.color_palette()[0]\n",
    "sb.countplot(data = df1, x = 'IncomeVerifiable', color = base_color);"
   ]
  },
  {
   "cell_type": "code",
   "execution_count": null,
   "metadata": {},
   "outputs": [],
   "source": [
    "# create the plot\n",
    "base_color = sb.color_palette()[0]\n",
    "plt.figure(figsize=[8, 8])\n",
    "cat_order = df1['LoanStatus'].value_counts().index\n",
    "sb.countplot(data = df1, x = 'LoanStatus', color = base_color, order = cat_order)\n",
    "\n",
    "# add annotations\n",
    "n_points = df1.shape[0]\n",
    "cat_counts = df1['LoanStatus'].value_counts()\n",
    "locs, labels = plt.xticks() # get the current tick locations and labels\n",
    "\n",
    "\n",
    "# loop through each pair of locations and labels\n",
    "for loc, label in zip(locs, labels):\n",
    "\n",
    "    # get the text property for the label to get the correct count\n",
    "    count = cat_counts[label.get_text()]\n",
    "    pct_string = '{:0.1f}%'.format(100*count/n_points)\n",
    "    \n",
    "    # print the annotation just below the top of the bar\n",
    "    plt.text(loc, count-8, pct_string, ha = 'center', color = 'r')\n",
    "    plt.xticks(rotation = 90);"
   ]
  },
  {
   "cell_type": "code",
   "execution_count": null,
   "metadata": {
    "scrolled": true
   },
   "outputs": [],
   "source": [
    "base_color = sb.color_palette()[0]\n",
    "sb.countplot(data = df1, x = 'IsBorrowerHomeowner', color = base_color);"
   ]
  },
  {
   "cell_type": "code",
   "execution_count": null,
   "metadata": {
    "scrolled": false
   },
   "outputs": [],
   "source": [
    "base_color = sb.color_palette()[0]\n",
    "plt.figure(figsize=[8,5])\n",
    "cat_order = df1['EmploymentStatus'].value_counts().index\n",
    "sb.countplot(data = df1, x = 'EmploymentStatus', color = base_color , order = cat_order);\n",
    "plt.xticks(rotation = 90);"
   ]
  },
  {
   "cell_type": "code",
   "execution_count": null,
   "metadata": {},
   "outputs": [],
   "source": [
    "base_color = sb.color_palette()[0]\n",
    "plt.figure(figsize=[8,5])\n",
    "cat_order = df1['IncomeRange'].value_counts().index\n",
    "sb.countplot(data = df1, x = 'IncomeRange', color = base_color , order = cat_order);\n",
    "plt.xticks(rotation = 90);"
   ]
  },
  {
   "cell_type": "code",
   "execution_count": null,
   "metadata": {},
   "outputs": [],
   "source": [
    "base_color = sb.color_palette()[0]\n",
    "plt.figure(figsize=[12, 8])\n",
    "cat_order = df1['BorrowerState'].value_counts().index\n",
    "sb.countplot(data = df1, x = 'BorrowerState', color = base_color , order = cat_order);\n",
    "plt.xticks(rotation = 90);"
   ]
  },
  {
   "cell_type": "code",
   "execution_count": null,
   "metadata": {
    "scrolled": false
   },
   "outputs": [],
   "source": [
    "# get proportion taken by most common group for derivation\n",
    "# of tick marks\n",
    "n_points = df1.shape[0]\n",
    "max_count = df1['BorrowerState'].value_counts().max()\n",
    "max_prop = max_count / n_points\n",
    "\n",
    "# generate tick mark locations and names\n",
    "tick_props = np.arange(0, max_prop, 0.05)\n",
    "tick_names = ['{:0.2f}'.format(v) for v in tick_props]\n",
    "\n",
    "cat_order = df1['BorrowerState'].value_counts().index\n",
    "\n",
    "# create the plot\n",
    "base_color = sb.color_palette()[0]\n",
    "plt.figure(figsize=[12, 8])\n",
    "sb.countplot(data = df1, x = 'BorrowerState', color = base_color , order = cat_order);\n",
    "plt.xticks(rotation = 90);\n",
    "plt.yticks(tick_props * n_points, tick_names)\n",
    "plt.ylabel('proportion');"
   ]
  },
  {
   "cell_type": "code",
   "execution_count": null,
   "metadata": {},
   "outputs": [],
   "source": [
    "# create the plot\n",
    "base_color = sb.color_palette()[0]\n",
    "plt.figure(figsize=[25, 8])\n",
    "cat_order = df1['BorrowerState'].value_counts().index\n",
    "sb.countplot(data = df1, x = 'BorrowerState', color = base_color, order = cat_order)\n",
    "\n",
    "# add annotations\n",
    "n_points = df1.shape[0]\n",
    "cat_counts = df1['BorrowerState'].value_counts()\n",
    "locs, labels = plt.xticks() # get the current tick locations and labels\n",
    "\n",
    "\n",
    "# loop through each pair of locations and labels\n",
    "for loc, label in zip(locs, labels):\n",
    "\n",
    "    # get the text property for the label to get the correct count\n",
    "    count = cat_counts[label.get_text()]\n",
    "    pct_string = '{:0.1f}%'.format(100*count/n_points)\n",
    "    \n",
    "    # print the annotation just below the top of the bar\n",
    "    plt.text(loc, count-8, pct_string, ha = 'center', color = 'r')\n"
   ]
  },
  {
   "cell_type": "code",
   "execution_count": null,
   "metadata": {
    "scrolled": false
   },
   "outputs": [],
   "source": [
    "binsize = .01\n",
    "bins = np.arange(0, df1['BorrowerAPR'].max()+binsize, binsize)\n",
    "\n",
    "plt.figure(figsize=[8, 5])\n",
    "plt.hist(data = df1, x = 'BorrowerAPR', bins = bins)\n",
    "plt.xlim([0,.45])\n",
    "plt.xlabel('BorrowerAPR')\n",
    "plt.show()"
   ]
  },
  {
   "cell_type": "code",
   "execution_count": null,
   "metadata": {},
   "outputs": [],
   "source": [
    "print(df1['LoanOriginalAmount'].describe())"
   ]
  },
  {
   "cell_type": "code",
   "execution_count": null,
   "metadata": {},
   "outputs": [],
   "source": [
    "binsize = 500\n",
    "bins = np.arange(0, df1['LoanOriginalAmount'].max()+binsize, binsize)\n",
    "\n",
    "plt.figure(figsize=[8, 5])\n",
    "plt.hist(data = df1, x = 'LoanOriginalAmount', bins = bins)\n",
    "plt.xlim([0,35000])\n",
    "plt.xlabel('LoanOriginalAmount')\n",
    "plt.show()"
   ]
  },
  {
   "cell_type": "code",
   "execution_count": null,
   "metadata": {},
   "outputs": [],
   "source": [
    "print(df1['OpenRevolvingMonthlyPayment'].describe())"
   ]
  },
  {
   "cell_type": "code",
   "execution_count": null,
   "metadata": {},
   "outputs": [],
   "source": [
    "binsize = 100\n",
    "bins = np.arange(0, df1['OpenRevolvingMonthlyPayment'].max()+binsize, binsize)\n",
    "\n",
    "plt.figure(figsize=[8, 5])\n",
    "plt.hist(data = df1, x = 'OpenRevolvingMonthlyPayment', bins = bins)\n",
    "plt.xlim([0,2000])\n",
    "plt.xlabel('OpenRevolvingMonthlyPayment')\n",
    "plt.show()"
   ]
  },
  {
   "cell_type": "code",
   "execution_count": null,
   "metadata": {
    "scrolled": true
   },
   "outputs": [],
   "source": [
    "binsize = .01\n",
    "bins = np.arange(0, df1['LenderYield'].max()+binsize, binsize)\n",
    "\n",
    "plt.figure(figsize=[8, 5])\n",
    "plt.hist(data = df1, x = 'LenderYield', bins = bins)\n",
    "plt.xlim([0,.4])\n",
    "plt.xlabel('LenderYield')\n",
    "plt.show()"
   ]
  },
  {
   "cell_type": "code",
   "execution_count": null,
   "metadata": {},
   "outputs": [],
   "source": [
    "binsize = .01\n",
    "bins = np.arange(0, df1['DebtToIncomeRatio'].max()+binsize, binsize)\n",
    "\n",
    "plt.figure(figsize=[8, 5])\n",
    "plt.hist(data = df1, x = 'DebtToIncomeRatio', bins = bins)\n",
    "plt.xlim([0,1])\n",
    "plt.xlabel('DebtToIncomeRatio')\n",
    "plt.show()"
   ]
  },
  {
   "cell_type": "code",
   "execution_count": null,
   "metadata": {},
   "outputs": [],
   "source": [
    "print(df1['DebtToIncomeRatio'].describe())"
   ]
  },
  {
   "cell_type": "code",
   "execution_count": null,
   "metadata": {},
   "outputs": [],
   "source": [
    "binsize = .005\n",
    "bins = np.arange(0, df1['BorrowerAPR'].max()+binsize, binsize)\n",
    "\n",
    "plt.figure(figsize=[8, 5])\n",
    "plt.hist(data = df1, x = 'BorrowerAPR', bins = bins)\n",
    "\n",
    "\n",
    "# overlay a theoretical normal distribution on top\n",
    "samp_mean = df1['BorrowerAPR'].mean()\n",
    "samp_sd = df1['BorrowerAPR'].std()\n",
    "\n",
    "from scipy.stats import norm\n",
    "x = np.linspace(0,.4, 200)\n",
    "y = norm.pdf(x, samp_mean, samp_sd) # normal distribution heights\n",
    "y *= df1.shape[0] * binsize # scale the distribution height\n",
    "\n",
    "plt.plot(x, y)\n",
    "plt.xlim([0,.4])\n",
    "plt.xlabel('BorrowerAPR')\n",
    "plt.show()"
   ]
  },
  {
   "cell_type": "code",
   "execution_count": null,
   "metadata": {},
   "outputs": [],
   "source": [
    "binsize = .005\n",
    "bins = np.arange(0, df1['LenderYield'].max()+binsize, binsize)\n",
    "\n",
    "plt.figure(figsize=[8, 5])\n",
    "plt.hist(data = df1, x = 'LenderYield', bins = bins)\n",
    "\n",
    "\n",
    "# overlay a theoretical normal distribution on top\n",
    "samp_mean = df1['LenderYield'].mean()\n",
    "samp_sd = df1['LenderYield'].std()\n",
    "\n",
    "from scipy.stats import norm\n",
    "x = np.linspace(0,.4, 200)\n",
    "y = norm.pdf(x, samp_mean, samp_sd) # normal distribution heights\n",
    "y *= df1.shape[0] * binsize # scale the distribution height\n",
    "\n",
    "plt.plot(x, y)\n",
    "plt.xlim([0,.4])\n",
    "plt.xlabel('LenderYield')\n",
    "plt.show()"
   ]
  },
  {
   "cell_type": "markdown",
   "metadata": {},
   "source": [
    "> Make sure that, after every plot or related series of plots, that you\n",
    "include a Markdown cell with comments about what you observed, and what\n",
    "you plan on investigating next."
   ]
  },
  {
   "cell_type": "code",
   "execution_count": null,
   "metadata": {},
   "outputs": [],
   "source": []
  },
  {
   "cell_type": "markdown",
   "metadata": {},
   "source": [
    "### Discuss the distribution(s) of your variable(s) of interest. Were there any unusual points? Did you need to perform any transformations?\n",
    "\n",
    "> Your answer here!\n",
    "\n",
    "### Of the features you investigated, were there any unusual distributions? Did you perform any operations on the data to tidy, adjust, or change the form of the data? If so, why did you do this?\n",
    "\n",
    "> Your answer here!"
   ]
  },
  {
   "cell_type": "markdown",
   "metadata": {},
   "source": [
    "## Bivariate Exploration\n",
    "\n",
    "> In this section, investigate relationships between pairs of variables in your\n",
    "data. Make sure the variables that you cover here have been introduced in some\n",
    "fashion in the previous section (univariate exploration)."
   ]
  },
  {
   "cell_type": "code",
   "execution_count": null,
   "metadata": {},
   "outputs": [],
   "source": []
  },
  {
   "cell_type": "markdown",
   "metadata": {},
   "source": [
    "### Talk about some of the relationships you observed in this part of the investigation. How did the feature(s) of interest vary with other features in the dataset?\n",
    "\n",
    "> Your answer here!\n",
    "\n",
    "### Did you observe any interesting relationships between the other features (not the main feature(s) of interest)?\n",
    "\n",
    "> Your answer here!"
   ]
  },
  {
   "cell_type": "markdown",
   "metadata": {},
   "source": [
    "## Multivariate Exploration\n",
    "\n",
    "> Create plots of three or more variables to investigate your data even\n",
    "further. Make sure that your investigations are justified, and follow from\n",
    "your work in the previous sections."
   ]
  },
  {
   "cell_type": "code",
   "execution_count": null,
   "metadata": {},
   "outputs": [],
   "source": []
  },
  {
   "cell_type": "markdown",
   "metadata": {},
   "source": [
    "### Talk about some of the relationships you observed in this part of the investigation. Were there features that strengthened each other in terms of looking at your feature(s) of interest?\n",
    "\n",
    "> Your answer here!\n",
    "\n",
    "### Were there any interesting or surprising interactions between features?\n",
    "\n",
    "> Your answer here!"
   ]
  },
  {
   "cell_type": "markdown",
   "metadata": {},
   "source": [
    "> At the end of your report, make sure that you export the notebook as an\n",
    "html file from the `File > Download as... > HTML` menu. Make sure you keep\n",
    "track of where the exported file goes, so you can put it in the same folder\n",
    "as this notebook for project submission. Also, make sure you remove all of\n",
    "the quote-formatted guide notes like this one before you finish your report!"
   ]
  },
  {
   "cell_type": "code",
   "execution_count": null,
   "metadata": {},
   "outputs": [],
   "source": []
  }
 ],
 "metadata": {
  "kernelspec": {
   "display_name": "Python 3",
   "language": "python",
   "name": "python3"
  },
  "language_info": {
   "codemirror_mode": {
    "name": "ipython",
    "version": 3
   },
   "file_extension": ".py",
   "mimetype": "text/x-python",
   "name": "python",
   "nbconvert_exporter": "python",
   "pygments_lexer": "ipython3",
   "version": "3.7.1"
  }
 },
 "nbformat": 4,
 "nbformat_minor": 2
}
